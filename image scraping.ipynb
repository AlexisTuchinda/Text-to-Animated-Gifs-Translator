{
 "cells": [
  {
   "cell_type": "code",
   "execution_count": 2,
   "id": "24eed1b9",
   "metadata": {},
   "outputs": [],
   "source": [
    "#https://towardsdatascience.com/a-tutorial-on-scraping-images-from-the-web-using-beautifulsoup-206a7633e948\n",
    "\n",
    "from bs4 import BeautifulSoup\n",
    "import requests"
   ]
  },
  {
   "cell_type": "code",
   "execution_count": 57,
   "id": "2aac5b0c",
   "metadata": {},
   "outputs": [
    {
     "name": "stdout",
     "output_type": "stream",
     "text": [
      "<!DOCTYPE html PUBLIC \"-//WAPFORUM//DTD XHTML Mobile 1.0//EN\" \"http://www.wapforum.org/DTD/xhtml-mobile10.dtd\">\n",
      "<html lang=\"en\" xmlns=\"http://www.w3.org/1999/xhtml\"><head><meta content=\"application/xhtml+xml; charset=utf-8\" http-equiv=\"Content-Type\"/><meta content=\"no-cache\" name=\"Cache-Control\"/><title>bananas - Google Search</title><style>a{text-decoration:none;color:inherit}a:hover{text-decoration:underline}a img{border:0}body{font-family:arial,sans-serif;padding:8px;margin:0 auto;max-width:700px;min-width:240px;}.FbhRzb{border-left:thin solid #dadce0;border-right:thin solid #dadce0;border-top:thin solid #dadce0;height:40px;overflow:hidden}.n692Zd{margin-bottom:10px}.cvifge{height:40px;border-spacing:0}.QvGUP{height:40px;padding:0 8px 0 8px;vertical-align:top}.O4cRJf{height:40px;width:100%;padding:0;padding-right:16px}.O1ePr{height:40px;padding:0;vertical-align:top}.kgJEQe{height:36px;width:98px;vertical-align:top;margin-top:4px}.lXLRf{vertical-align:top}.MhzMZd{border:0;vertical-align:middle;font-size:14px;height:40px;padding:0;width:100%;padding-left:16px}.xB0fq{height:40px;border:none;font-size:14px;background-color:#4285f4;color:#fff;padding:0 16px;margin:0;vertical-align:top;cursor:pointer}.xB0fq:focus{border:1px solid #000}.M7pB2{border:thin solid #dadce0;margin:0 0 3px 0;font-size:13px;font-weight:500;height:40px}.euZec{width:100%;height:40px;text-align:center;border-spacing:0}table.euZec td{padding:0;width:25%}.QIqI7{display:inline-block;padding-top:4px;font-weight:bold;color:#4285f4}.EY24We{border-bottom:2px solid #4285f4}.CsQyDc{display:inline-block;color:#70757a}.TuS8Ad{font-size:14px}.HddGcc{padding:8px;color:#70757a}.dzp8ae{font-weight:bold;color:#3c4043}.rEM8G{color:#70757a}.bookcf{table-layout:fixed;width:100%;border-spacing:0}.InWNIe{text-align:center}.uZgmoc{border:thin solid #dadce0;color:#70757a;font-size:14px;text-align:center;table-layout:fixed;width:100%}.frGj1b{display:block;padding:12px 0 12px 0;width:100%}.BnJWBc{text-align:center;padding:6px 0 13px 0;height:35px}.e3goi{vertical-align:top;padding:0;height:180px}.GpQGbf{margin:auto;border-collapse:collapse;border-spacing:0;width:100%}</style></head><body><style>.X6ZCif{color:#202124;font-size:11px;line-height:16px;display:inline-block;padding-top:2px;overflow:hidden;padding-bottom:4px;width:100%}.TwVfHd{border-radius:16px;border:thin solid #dadce0;display:inline-block;padding:8px 8px;margin-right:8px;margin-bottom:4px}.yekiAe{background-color:#dadce0}.mnTahd{width:100%}.ezO2md{border:thin solid #dadce0;padding:12px 16px 12px 16px;margin-bottom:10px;font-family:arial,sans-serif}.lIMUZd{font-family:arial,sans-serif}.IkMU6e{border-spacing:0}.SjCsie{width:100%}.EnarA{text-align:center}.NZWO1b{width:162px;height:140px;line-height:140px;overflow:'hidden';text-align:center}.yWs4tf{text-align:center;margin:auto;vertical-align:middle;max-width:162px;max-height:140px}.jB2rPd{padding-top:2px;padding-bottom:8px;}.fYyStc{word-break:break-word}.ynsChf{display:block;white-space:nowrap;overflow:hidden;text-overflow:ellipsis}.Fj3V3b{color:#1967d2;font-size:14px;line-height:20px}.FrIlee{color:#202124;font-size:11px;line-height:16px}.F9iS2e{color:#70757a;font-size:11px;line-height:16px}.WMQ2Le{color:#70757a;font-size:12px;line-height:16px}.x3G5ab{color:#202124;font-size:12px;line-height:16px}.fuLhoc{color:#1967d2;font-size:16px;line-height:20px}.epoveb{font-size:24px;line-height:28px;font-weight:400;color:#202124}.dXDvrc{color:#0d652d;font-size:14px;line-height:20px;word-wrap:break-word}.dloBPe{font-weight:bold}.YVIcad{color:#70757a}.JkVVdd{color:#ea4335}.oXZRFd{color:#ea4335}.MQHtg{color:#fbbc04}.pyMRrb{color:#1e8e3e}.EtTZid{color:#1e8e3e}.M3vVJe{color:#1967d2}.qXLe6d{display:block}.NHQNef{font-style:italic}.Cb8Z7c{white-space:pre}a.ZWRArf{text-decoration:none}a .CVA68e:hover{text-decoration:underline}</style><div class=\"n692Zd\"><div class=\"BnJWBc\"><a class=\"lXLRf\" href=\"/?safe=active&amp;sa=X&amp;output=images&amp;ie=UTF-8&amp;tbm=isch&amp;ved=0ahUKEwje87zMuqz6AhVWK0QIHbjbCSQQPAgC\"><img alt=\"Google\" class=\"kgJEQe\" src=\"/images/branding/searchlogo/1x/googlelogo_desk_heirloom_color_150x55dp.gif\"/></a></div><div class=\"FbhRzb\"><form action=\"/search\"><input name=\"safe\" type=\"hidden\" value=\"active\"/><input name=\"ie\" type=\"hidden\" value=\"ISO-8859-1\"/><input name=\"tbm\" type=\"hidden\" value=\"isch\"/><input name=\"oq\" type=\"hidden\"/><input name=\"aqs\" type=\"hidden\"/><table class=\"cvifge\"><tr><td class=\"O4cRJf\"><input class=\"MhzMZd\" name=\"q\" type=\"text\" value=\"bananas\"/></td><td class=\"O1ePr\"><input class=\"xB0fq\" type=\"submit\" value=\"Search\"/></td></tr></table></form></div><div class=\"M7pB2\"><table class=\"euZec\"><tbody><tr><td><a class=\"CsQyDc\" href=\"/search?q=bananas&amp;safe=active&amp;ie=UTF-8&amp;source=lnms&amp;sa=X&amp;ved=0ahUKEwje87zMuqz6AhVWK0QIHbjbCSQQ_AUIBCgA\">ALL</a></td><td class=\"EY24We\"><span class=\"QIqI7\">IMAGES</span></td><td><a class=\"CsQyDc\" href=\"/search?q=bananas&amp;safe=active&amp;ie=UTF-8&amp;tbm=nws&amp;source=lnms&amp;sa=X&amp;ved=0ahUKEwje87zMuqz6AhVWK0QIHbjbCSQQ_AUIBigC\">NEWS</a></td><td><a class=\"CsQyDc\" href=\"/search?q=bananas&amp;safe=active&amp;ie=UTF-8&amp;tbm=vid&amp;source=lnms&amp;sa=X&amp;ved=0ahUKEwje87zMuqz6AhVWK0QIHbjbCSQQ_AUIBygD\">VIDEOS</a></td></tr></tbody></table></div></div><div class=\"X6ZCif\"><a class=\"TwVfHd\" href=\"/search?safe=active&amp;ie=UTF-8&amp;tbm=isch&amp;q=bananas&amp;chips=q:bananas,g_1:clipart&amp;sa=X&amp;ved=0ahUKEwje87zMuqz6AhVWK0QIHbjbCSQQ4lYICygA\">clipart</a><a class=\"TwVfHd\" href=\"/search?safe=active&amp;ie=UTF-8&amp;tbm=isch&amp;q=bananas&amp;chips=q:bananas,g_1:cartoon&amp;sa=X&amp;ved=0ahUKEwje87zMuqz6AhVWK0QIHbjbCSQQ4lYIDCgB\">cartoon</a><a class=\"TwVfHd\" href=\"/search?safe=active&amp;ie=UTF-8&amp;tbm=isch&amp;q=bananas&amp;chips=q:bananas,g_1:animated&amp;sa=X&amp;ved=0ahUKEwje87zMuqz6AhVWK0QIHbjbCSQQ4lYIDSgC\">animated</a><a class=\"TwVfHd\" href=\"/search?safe=active&amp;ie=UTF-8&amp;tbm=isch&amp;q=bananas&amp;chips=q:bananas,g_1:natural&amp;sa=X&amp;ved=0ahUKEwje87zMuqz6AhVWK0QIHbjbCSQQ4lYIDigD\">natural</a><a class=\"TwVfHd\" href=\"/search?safe=active&amp;ie=UTF-8&amp;tbm=isch&amp;q=bananas&amp;chips=q:bananas,g_1:fruit&amp;sa=X&amp;ved=0ahUKEwje87zMuqz6AhVWK0QIHbjbCSQQ4lYIDygE\">fruit</a><a class=\"TwVfHd\" href=\"/search?safe=active&amp;ie=UTF-8&amp;tbm=isch&amp;q=bananas&amp;chips=q:bananas,g_1:eating&amp;sa=X&amp;ved=0ahUKEwje87zMuqz6AhVWK0QIHbjbCSQQ4lYIECgF\">eating</a><a class=\"TwVfHd\" href=\"/search?safe=active&amp;ie=UTF-8&amp;tbm=isch&amp;q=bananas&amp;chips=q:bananas,g_1:green&amp;sa=X&amp;ved=0ahUKEwje87zMuqz6AhVWK0QIHbjbCSQQ4lYIESgG\">green</a><a class=\"TwVfHd\" href=\"/search?safe=active&amp;ie=UTF-8&amp;tbm=isch&amp;q=bananas&amp;chips=q:bananas,g_1:transparent&amp;sa=X&amp;ved=0ahUKEwje87zMuqz6AhVWK0QIHbjbCSQQ4lYIEigH\">transparent</a><a class=\"TwVfHd\" href=\"/search?safe=active&amp;ie=UTF-8&amp;tbm=isch&amp;q=bananas&amp;chips=q:bananas,g_1:cute&amp;sa=X&amp;ved=0ahUKEwje87zMuqz6AhVWK0QIHbjbCSQQ4lYIEygI\">cute</a><a class=\"TwVfHd\" href=\"/search?safe=active&amp;ie=UTF-8&amp;tbm=isch&amp;q=bananas&amp;chips=q:bananas,g_1:ripe&amp;sa=X&amp;ved=0ahUKEwje87zMuqz6AhVWK0QIHbjbCSQQ4lYIFCgJ\">ripe</a></div><div><table class=\"GpQGbf\"><tr><td align=\"center\" class=\"e3goi\"><div class=\"mnTahd\"> <div> <div class=\"lIMUZd\"><div><table class=\"IkMU6e\"><tr><td><a href=\"/url?q=https://www.heb.com/product-detail/fresh-bunch-of-bananas/377497&amp;sa=U&amp;ved=2ahUKEwje87zMuqz6AhVWK0QIHbjbCSQQqoUBegQIBRAB&amp;usg=AOvVaw0w31n36ycMyB1sIJ5b6jJm\"><div class=\"NZWO1b\"><img alt=\"\" class=\"yWs4tf\" src=\"https://encrypted-tbn0.gstatic.com/images?q=tbn:ANd9GcQYx8iM6RjESHnpSgWmCAi-Iirr25wc1kgDrRCcP2qzFsQMCpPjSKlix1MeaA&amp;s\"/></div></a></td></tr><tr><td><a href=\"/url?q=https://www.heb.com/product-detail/fresh-bunch-of-bananas/377497&amp;sa=U&amp;ved=2ahUKEwje87zMuqz6AhVWK0QIHbjbCSQQr4kDegQIBRAC&amp;usg=AOvVaw1bBIIQD3LEfsOXI_CCeI4e\"><div class=\"jB2rPd\"> <span class=\"qXLe6d x3G5ab\"> <span class=\"fYyStc\">Fresh Bunch of Bananas -...</span> </span> <span class=\"qXLe6d F9iS2e\"> <span class=\"fYyStc\">www.heb.com</span> </span> </div></a></td></tr></table></div></div> </div> </div></td><td align=\"center\" class=\"e3goi\"><div class=\"mnTahd\"> <div> <div class=\"lIMUZd\"><div><table class=\"IkMU6e\"><tr><td><a href=\"/url?q=https://www.bbcgoodfood.com/howto/guide/health-benefits-bananas&amp;sa=U&amp;ved=2ahUKEwje87zMuqz6AhVWK0QIHbjbCSQQqoUBegQIExAB&amp;usg=AOvVaw2xV3GlaViCwvzxpgd8Gw0s\"><div class=\"NZWO1b\"><img alt=\"\" class=\"yWs4tf\" src=\"https://encrypted-tbn0.gstatic.com/images?q=tbn:ANd9GcQkixelwO2Hk4OJw0xh4HT79G9QjL_CRfOCHNXFYouRYYk5gzsJ_sfZ4P5E8g&amp;s\"/></div></a></td></tr><tr><td><a href=\"/url?q=https://www.bbcgoodfood.com/howto/guide/health-benefits-bananas&amp;sa=U&amp;ved=2ahUKEwje87zMuqz6AhVWK0QIHbjbCSQQr4kDegQIExAC&amp;usg=AOvVaw2CGRtqJ2uw16rHFYswepV8\"><div class=\"jB2rPd\"> <span class=\"qXLe6d x3G5ab\"> <span class=\"fYyStc\">The health benefits of...</span> </span> <span class=\"qXLe6d F9iS2e\"> <span class=\"fYyStc\">www.bbcgoodfood.com</span> </span> </div></a></td></tr></table></div></div> </div> </div></td><td align=\"center\" class=\"e3goi\"><div class=\"mnTahd\"> <div> <div class=\"lIMUZd\"><div><table class=\"IkMU6e\"><tr><td><a href=\"/url?q=https://www.hsph.harvard.edu/nutritionsource/food-features/bananas/&amp;sa=U&amp;ved=2ahUKEwje87zMuqz6AhVWK0QIHbjbCSQQqoUBegQIEhAB&amp;usg=AOvVaw06-06W1Jku3AmNlGVKzHGz\"><div class=\"NZWO1b\"><img alt=\"\" class=\"yWs4tf\" src=\"https://encrypted-tbn0.gstatic.com/images?q=tbn:ANd9GcRaYYZourczaq8IzSkYz_r9KbJmdwrMMIJZB_M9ZGGh89Ijpq7Gmo0gtht2r4k&amp;s\"/></div></a></td></tr><tr><td><a href=\"/url?q=https://www.hsph.harvard.edu/nutritionsource/food-features/bananas/&amp;sa=U&amp;ved=2ahUKEwje87zMuqz6AhVWK0QIHbjbCSQQr4kDegQIEhAC&amp;usg=AOvVaw0u_WFIYtSZigxBBy-dEza7\"><div class=\"jB2rPd\"> <span class=\"qXLe6d x3G5ab\"> <span class=\"fYyStc\">Bananas | The Nutrition...</span> </span> <span class=\"qXLe6d F9iS2e\"> <span class=\"fYyStc\">www.hsph.harvard.edu</span> </span> </div></a></td></tr></table></div></div> </div> </div></td><td align=\"center\" class=\"e3goi\"><div class=\"mnTahd\"> <div> <div class=\"lIMUZd\"><div><table class=\"IkMU6e\"><tr><td><a href=\"/url?q=https://www.everydayhealth.com/diet-nutrition/diet/bananas-nutrition-facts-health-benefits-recipes-risks/&amp;sa=U&amp;ved=2ahUKEwje87zMuqz6AhVWK0QIHbjbCSQQqoUBegQIDhAB&amp;usg=AOvVaw0IKzLDVQQ_GUG_Cu_HV003\"><div class=\"NZWO1b\"><img alt=\"\" class=\"yWs4tf\" src=\"https://encrypted-tbn0.gstatic.com/images?q=tbn:ANd9GcS8NR-XIv81pEv2GVNcaVXKzlMspeFtdcVPp24a4TLFSHjPqWUanxWnFCvk14E&amp;s\"/></div></a></td></tr><tr><td><a href=\"/url?q=https://www.everydayhealth.com/diet-nutrition/diet/bananas-nutrition-facts-health-benefits-recipes-risks/&amp;sa=U&amp;ved=2ahUKEwje87zMuqz6AhVWK0QIHbjbCSQQr4kDegQIDhAC&amp;usg=AOvVaw07VRuEOyHiqydRSOHSR9YC\"><div class=\"jB2rPd\"> <span class=\"qXLe6d x3G5ab\"> <span class=\"fYyStc\">All About Bananas:...</span> </span> <span class=\"qXLe6d F9iS2e\"> <span class=\"fYyStc\">www.everydayhealth.com</span> </span> </div></a></td></tr></table></div></div> </div> </div></td></tr><tr><td align=\"center\" class=\"e3goi\"><div class=\"mnTahd\"> <div> <div class=\"lIMUZd\"><div><table class=\"IkMU6e\"><tr><td><a href=\"/url?q=https://greatist.com/health/banana-benefits&amp;sa=U&amp;ved=2ahUKEwje87zMuqz6AhVWK0QIHbjbCSQQqoUBegQIEBAB&amp;usg=AOvVaw11M50AHETZ98-jqQEXWbrR\"><div class=\"NZWO1b\"><img alt=\"\" class=\"yWs4tf\" src=\"https://encrypted-tbn0.gstatic.com/images?q=tbn:ANd9GcQ8MnidQoU4a_8Yob599r4gkyMQH_S9mwvBYBQDQYv8w7G-Kw_pjY40h2ZBTSQ&amp;s\"/></div></a></td></tr><tr><td><a href=\"/url?q=https://greatist.com/health/banana-benefits&amp;sa=U&amp;ved=2ahUKEwje87zMuqz6AhVWK0QIHbjbCSQQr4kDegQIEBAC&amp;usg=AOvVaw23IyqyO997OYTUUS6NFElO\"><div class=\"jB2rPd\"> <span class=\"qXLe6d x3G5ab\"> <span class=\"fYyStc\">12 Science-Backed Banana...</span> </span> <span class=\"qXLe6d F9iS2e\"> <span class=\"fYyStc\">greatist.com</span> </span> </div></a></td></tr></table></div></div> </div> </div></td><td align=\"center\" class=\"e3goi\"><div class=\"mnTahd\"> <div> <div class=\"lIMUZd\"><div><table class=\"IkMU6e\"><tr><td><a href=\"/url?q=https://www.medicalnewstoday.com/articles/271157&amp;sa=U&amp;ved=2ahUKEwje87zMuqz6AhVWK0QIHbjbCSQQqoUBegQICxAB&amp;usg=AOvVaw2h0KzwwhEadYNFG2XECJ8A\"><div class=\"NZWO1b\"><img alt=\"\" class=\"yWs4tf\" src=\"https://encrypted-tbn0.gstatic.com/images?q=tbn:ANd9GcSIOHcMCV4QaXbmy4GqNHnLLFeS_8SQoVb5BQLgUiykSdzK2HDwebgR4cMvYQ&amp;s\"/></div></a></td></tr><tr><td><a href=\"/url?q=https://www.medicalnewstoday.com/articles/271157&amp;sa=U&amp;ved=2ahUKEwje87zMuqz6AhVWK0QIHbjbCSQQr4kDegQICxAC&amp;usg=AOvVaw2eqJZRIxGbD-H2gjhrcwWt\"><div class=\"jB2rPd\"> <span class=\"qXLe6d x3G5ab\"> <span class=\"fYyStc\">Bananas: Health benefits,...</span> </span> <span class=\"qXLe6d F9iS2e\"> <span class=\"fYyStc\">www.medicalnewstoday.com</span> </span> </div></a></td></tr></table></div></div> </div> </div></td><td align=\"center\" class=\"e3goi\"><div class=\"mnTahd\"> <div> <div class=\"lIMUZd\"><div><table class=\"IkMU6e\"><tr><td><a href=\"/url?q=https://www.health.harvard.edu/heart-health/fruit-of-the-month-bananas&amp;sa=U&amp;ved=2ahUKEwje87zMuqz6AhVWK0QIHbjbCSQQqoUBegQIChAB&amp;usg=AOvVaw0p6z4sQn5hKVNDBzDLxhhJ\"><div class=\"NZWO1b\"><img alt=\"\" class=\"yWs4tf\" src=\"https://encrypted-tbn0.gstatic.com/images?q=tbn:ANd9GcQrbkMM4ffWsRel6L2cAe8LnYUebqxxL3xDWAzAtG9Z_9u_PItronJdpijl7YI&amp;s\"/></div></a></td></tr><tr><td><a href=\"/url?q=https://www.health.harvard.edu/heart-health/fruit-of-the-month-bananas&amp;sa=U&amp;ved=2ahUKEwje87zMuqz6AhVWK0QIHbjbCSQQr4kDegQIChAC&amp;usg=AOvVaw0LEtOpcDDmX38JBk-ekzUe\"><div class=\"jB2rPd\"> <span class=\"qXLe6d x3G5ab\"> <span class=\"fYyStc\">Fruit of the month: Bananas...</span> </span> <span class=\"qXLe6d F9iS2e\"> <span class=\"fYyStc\">www.health.harvard.edu</span> </span> </div></a></td></tr></table></div></div> </div> </div></td><td align=\"center\" class=\"e3goi\"><div class=\"mnTahd\"> <div> <div class=\"lIMUZd\"><div><table class=\"IkMU6e\"><tr><td><a href=\"/url?q=https://www.healthline.com/nutrition/foods/bananas&amp;sa=U&amp;ved=2ahUKEwje87zMuqz6AhVWK0QIHbjbCSQQqoUBegQIDRAB&amp;usg=AOvVaw3yWmWIkZc5vK4MQ5v3EmLI\"><div class=\"NZWO1b\"><img alt=\"\" class=\"yWs4tf\" src=\"https://encrypted-tbn0.gstatic.com/images?q=tbn:ANd9GcRnXEJRHT_UVcuFQkzectPOme3eZA6owkMtaI90_v2FDCN1qttmoymdZ2lYGgY&amp;s\"/></div></a></td></tr><tr><td><a href=\"/url?q=https://www.healthline.com/nutrition/foods/bananas&amp;sa=U&amp;ved=2ahUKEwje87zMuqz6AhVWK0QIHbjbCSQQr4kDegQIDRAC&amp;usg=AOvVaw1j-b1hrH2ooBJYuqMYnrty\"><div class=\"jB2rPd\"> <span class=\"qXLe6d x3G5ab\"> <span class=\"fYyStc\">Bananas 101: Nutrition...</span> </span> <span class=\"qXLe6d F9iS2e\"> <span class=\"fYyStc\">www.healthline.com</span> </span> </div></a></td></tr></table></div></div> </div> </div></td></tr><tr><td align=\"center\" class=\"e3goi\"><div class=\"mnTahd\"> <div> <div class=\"lIMUZd\"><div><table class=\"IkMU6e\"><tr><td><a href=\"/url?q=https://www.amazon.com/Fresh-Organic-Bananas-Bundle-lbs/dp/B075QN7361&amp;sa=U&amp;ved=2ahUKEwje87zMuqz6AhVWK0QIHbjbCSQQqoUBegQIDBAB&amp;usg=AOvVaw0R97jyG4djwmeeDn98P9Wd\"><div class=\"NZWO1b\"><img alt=\"\" class=\"yWs4tf\" src=\"https://encrypted-tbn0.gstatic.com/images?q=tbn:ANd9GcR0R-3LXvIXTOPvRrnNKMMf-Pm2KqGMkpyFyoL_io_JmmqphM4cunk9TgOzN0I&amp;s\"/></div></a></td></tr><tr><td><a href=\"/url?q=https://www.amazon.com/Fresh-Organic-Bananas-Bundle-lbs/dp/B075QN7361&amp;sa=U&amp;ved=2ahUKEwje87zMuqz6AhVWK0QIHbjbCSQQr4kDegQIDBAC&amp;usg=AOvVaw1--WvOeZqoeGt_JCeOcX-z\"><div class=\"jB2rPd\"> <span class=\"qXLe6d x3G5ab\"> <span class=\"fYyStc\">Amazon.com: Fresh Organic...</span> </span> <span class=\"qXLe6d F9iS2e\"> <span class=\"fYyStc\">www.amazon.com</span> </span> </div></a></td></tr></table></div></div> </div> </div></td><td align=\"center\" class=\"e3goi\"><div class=\"mnTahd\"> <div> <div class=\"lIMUZd\"><div><table class=\"IkMU6e\"><tr><td><a href=\"/url?q=https://www.eatthis.com/major-effects-bananas-on-health/&amp;sa=U&amp;ved=2ahUKEwje87zMuqz6AhVWK0QIHbjbCSQQqoUBegQIDxAB&amp;usg=AOvVaw0HyQB4lUdeYeKFRukPxc2d\"><div class=\"NZWO1b\"><img alt=\"\" class=\"yWs4tf\" src=\"https://encrypted-tbn0.gstatic.com/images?q=tbn:ANd9GcRA5mFrM7WO1gKDeX4NXX08PyeDD0_BXaHp5NY1bbzA5JNsqECdI08d2vkwpQ&amp;s\"/></div></a></td></tr><tr><td><a href=\"/url?q=https://www.eatthis.com/major-effects-bananas-on-health/&amp;sa=U&amp;ved=2ahUKEwje87zMuqz6AhVWK0QIHbjbCSQQr4kDegQIDxAC&amp;usg=AOvVaw3IdyNuYWB7NWyb76eYXFOm\"><div class=\"jB2rPd\"> <span class=\"qXLe6d x3G5ab\"> <span class=\"fYyStc\">Major Effects Bananas Have...</span> </span> <span class=\"qXLe6d F9iS2e\"> <span class=\"fYyStc\">www.eatthis.com</span> </span> </div></a></td></tr></table></div></div> </div> </div></td><td align=\"center\" class=\"e3goi\"><div class=\"mnTahd\"> <div> <div class=\"lIMUZd\"><div><table class=\"IkMU6e\"><tr><td><a href=\"/url?q=https://www.news-medical.net/health/Health-Benefits-of-Bananas.aspx&amp;sa=U&amp;ved=2ahUKEwje87zMuqz6AhVWK0QIHbjbCSQQqoUBegQIERAB&amp;usg=AOvVaw2FfRnJIzK_rRK2wjCTE7U1\"><div class=\"NZWO1b\"><img alt=\"\" class=\"yWs4tf\" src=\"https://encrypted-tbn0.gstatic.com/images?q=tbn:ANd9GcT4IU3QPRpKHLaAzbyfO2d9MeWlWZZuGYadexY_68orO8vtUH7F68ihdYOTfA&amp;s\"/></div></a></td></tr><tr><td><a href=\"/url?q=https://www.news-medical.net/health/Health-Benefits-of-Bananas.aspx&amp;sa=U&amp;ved=2ahUKEwje87zMuqz6AhVWK0QIHbjbCSQQr4kDegQIERAC&amp;usg=AOvVaw3iy-Qpz36NMeqLYIdJ9tqH\"><div class=\"jB2rPd\"> <span class=\"qXLe6d x3G5ab\"> <span class=\"fYyStc\">Health Benefits of Bananas</span> </span> <span class=\"qXLe6d F9iS2e\"> <span class=\"fYyStc\">www.news-medical.net</span> </span> </div></a></td></tr></table></div></div> </div> </div></td><td align=\"center\" class=\"e3goi\"><div class=\"mnTahd\"> <div> <div class=\"lIMUZd\"><div><table class=\"IkMU6e\"><tr><td><a href=\"/url?q=https://www.walmart.com/ip/Marketside-Organic-Bananas-Bunch/51259338&amp;sa=U&amp;ved=2ahUKEwje87zMuqz6AhVWK0QIHbjbCSQQqoUBegQICRAB&amp;usg=AOvVaw0Hw8O5mwJrDlJBOLpoe12R\"><div class=\"NZWO1b\"><img alt=\"\" class=\"yWs4tf\" src=\"https://encrypted-tbn0.gstatic.com/images?q=tbn:ANd9GcSYDRUHlKSeEnd1MmlRrjLq_QIuof3r1iKw-HgPHpS6wsvf0w7nip-g3l_4sw&amp;s\"/></div></a></td></tr><tr><td><a href=\"/url?q=https://www.walmart.com/ip/Marketside-Organic-Bananas-Bunch/51259338&amp;sa=U&amp;ved=2ahUKEwje87zMuqz6AhVWK0QIHbjbCSQQr4kDegQICRAC&amp;usg=AOvVaw1tkMGwdxdmkZSQOsHMHPEs\"><div class=\"jB2rPd\"> <span class=\"qXLe6d x3G5ab\"> <span class=\"fYyStc\">Marketside Organic Bananas,...</span> </span> <span class=\"qXLe6d F9iS2e\"> <span class=\"fYyStc\">www.walmart.com</span> </span> </div></a></td></tr></table></div></div> </div> </div></td></tr><tr><td align=\"center\" class=\"e3goi\"><div class=\"mnTahd\"> <div> <div class=\"lIMUZd\"><div><table class=\"IkMU6e\"><tr><td><a href=\"/url?q=https://www.amazon.com/FRESH-BANANAS-FRUIT-VEGETABLES-PRODUCE/dp/B01BZIQ3P6&amp;sa=U&amp;ved=2ahUKEwje87zMuqz6AhVWK0QIHbjbCSQQqoUBegQIBhAB&amp;usg=AOvVaw0D4ou-qKFWGijRDrjm6n97\"><div class=\"NZWO1b\"><img alt=\"\" class=\"yWs4tf\" src=\"https://encrypted-tbn0.gstatic.com/images?q=tbn:ANd9GcQT35k8Wy370Za7JeGqocXBvvMvBdLEhlIqmP2vPIhwgXUeY2Cl-7GpfKI_bA&amp;s\"/></div></a></td></tr><tr><td><a href=\"/url?q=https://www.amazon.com/FRESH-BANANAS-FRUIT-VEGETABLES-PRODUCE/dp/B01BZIQ3P6&amp;sa=U&amp;ved=2ahUKEwje87zMuqz6AhVWK0QIHbjbCSQQr4kDegQIBhAC&amp;usg=AOvVaw1sGCnj_pUGqsUZEmUto5gC\"><div class=\"jB2rPd\"> <span class=\"qXLe6d x3G5ab\"> <span class=\"fYyStc\">Amazon.com: FRESH BANANAS...</span> </span> <span class=\"qXLe6d F9iS2e\"> <span class=\"fYyStc\">www.amazon.com</span> </span> </div></a></td></tr></table></div></div> </div> </div></td><td align=\"center\" class=\"e3goi\"><div class=\"mnTahd\"> <div> <div class=\"lIMUZd\"><div><table class=\"IkMU6e\"><tr><td><a href=\"/url?q=https://www.epicurious.com/expert-advice/tricks-for-how-to-ripen-bananas-article&amp;sa=U&amp;ved=2ahUKEwje87zMuqz6AhVWK0QIHbjbCSQQqoUBegQIAxAB&amp;usg=AOvVaw16GxHy-zatxxSBTWLu1y7-\"><div class=\"NZWO1b\"><img alt=\"\" class=\"yWs4tf\" src=\"https://encrypted-tbn0.gstatic.com/images?q=tbn:ANd9GcTA4ujv6m13qESixLE3kpF3nIZkDO6x_S3DPagN8cre9QThJp3UfhqYMZIF1Q&amp;s\"/></div></a></td></tr><tr><td><a href=\"/url?q=https://www.epicurious.com/expert-advice/tricks-for-how-to-ripen-bananas-article&amp;sa=U&amp;ved=2ahUKEwje87zMuqz6AhVWK0QIHbjbCSQQr4kDegQIAxAC&amp;usg=AOvVaw2u8YMiYypJDE1OlRdCqgBL\"><div class=\"jB2rPd\"> <span class=\"qXLe6d x3G5ab\"> <span class=\"fYyStc\">How to Make Bananas Ripen...</span> </span> <span class=\"qXLe6d F9iS2e\"> <span class=\"fYyStc\">www.epicurious.com</span> </span> </div></a></td></tr></table></div></div> </div> </div></td><td align=\"center\" class=\"e3goi\"><div class=\"mnTahd\"> <div> <div class=\"lIMUZd\"><div><table class=\"IkMU6e\"><tr><td><a href=\"/url?q=https://www.target.com/p/organic-bananas-2lb/-/A-85759852&amp;sa=U&amp;ved=2ahUKEwje87zMuqz6AhVWK0QIHbjbCSQQqoUBegQIBBAB&amp;usg=AOvVaw1nMTUG8qe30YLLb76tyljD\"><div class=\"NZWO1b\"><img alt=\"\" class=\"yWs4tf\" src=\"https://encrypted-tbn0.gstatic.com/images?q=tbn:ANd9GcQ9s_6vkZ9B_Zj44vvGJ5UXuzKd_vFa-DxoBShZbFTi-JRggKzA-nS5fMCECw&amp;s\"/></div></a></td></tr><tr><td><a href=\"/url?q=https://www.target.com/p/organic-bananas-2lb/-/A-85759852&amp;sa=U&amp;ved=2ahUKEwje87zMuqz6AhVWK0QIHbjbCSQQr4kDegQIBBAC&amp;usg=AOvVaw0mhjErVYVIKrOz55yNFkFJ\"><div class=\"jB2rPd\"> <span class=\"qXLe6d x3G5ab\"> <span class=\"fYyStc\">Organic Bananas - 2lb :...</span> </span> <span class=\"qXLe6d F9iS2e\"> <span class=\"fYyStc\">www.target.com</span> </span> </div></a></td></tr></table></div></div> </div> </div></td><td align=\"center\" class=\"e3goi\"><div class=\"mnTahd\"> <div> <div class=\"lIMUZd\"><div><table class=\"IkMU6e\"><tr><td><a href=\"/url?q=https://www.liveeatlearn.com/bananas/&amp;sa=U&amp;ved=2ahUKEwje87zMuqz6AhVWK0QIHbjbCSQQqoUBegQIARAB&amp;usg=AOvVaw1dexLlgeyFa6TX1rxdRzEo\"><div class=\"NZWO1b\"><img alt=\"\" class=\"yWs4tf\" src=\"https://encrypted-tbn0.gstatic.com/images?q=tbn:ANd9GcRrBGRSNrsZxo4vd7pKHEhWEGIsUW6h63QxDhrAkEc846kCkLQo9ps0S0sB9Y0&amp;s\"/></div></a></td></tr><tr><td><a href=\"/url?q=https://www.liveeatlearn.com/bananas/&amp;sa=U&amp;ved=2ahUKEwje87zMuqz6AhVWK0QIHbjbCSQQr4kDegQIARAC&amp;usg=AOvVaw0R0G932opU8AexfmT6ORmV\"><div class=\"jB2rPd\"> <span class=\"qXLe6d x3G5ab\"> <span class=\"fYyStc\">Bananas 101: Everything You...</span> </span> <span class=\"qXLe6d F9iS2e\"> <span class=\"fYyStc\">www.liveeatlearn.com</span> </span> </div></a></td></tr></table></div></div> </div> </div></td></tr><tr><td align=\"center\" class=\"e3goi\"><div class=\"mnTahd\"> <div> <div class=\"lIMUZd\"><div><table class=\"IkMU6e\"><tr><td><a href=\"/url?q=https://en.wikipedia.org/wiki/Cavendish_banana&amp;sa=U&amp;ved=2ahUKEwje87zMuqz6AhVWK0QIHbjbCSQQqoUBegQIBxAB&amp;usg=AOvVaw0k3EgMS2mLPMlUEOLZbMbt\"><div class=\"NZWO1b\"><img alt=\"\" class=\"yWs4tf\" src=\"https://encrypted-tbn0.gstatic.com/images?q=tbn:ANd9GcSqwxTfz8SmTUNKUrNhRypzCowtlOcBT6fOx04R3gwPpKgzSRuxYibF7VKZw4k&amp;s\"/></div></a></td></tr><tr><td><a href=\"/url?q=https://en.wikipedia.org/wiki/Cavendish_banana&amp;sa=U&amp;ved=2ahUKEwje87zMuqz6AhVWK0QIHbjbCSQQr4kDegQIBxAC&amp;usg=AOvVaw3pqIALBV-zQ8cgP8gj0898\"><div class=\"jB2rPd\"> <span class=\"qXLe6d x3G5ab\"> <span class=\"fYyStc\">Cavendish banana -...</span> </span> <span class=\"qXLe6d F9iS2e\"> <span class=\"fYyStc\">en.wikipedia.org</span> </span> </div></a></td></tr></table></div></div> </div> </div></td><td align=\"center\" class=\"e3goi\"><div class=\"mnTahd\"> <div> <div class=\"lIMUZd\"><div><table class=\"IkMU6e\"><tr><td><a href=\"/url?q=https://www.walmart.com/ip/Bananas-each/44390948&amp;sa=U&amp;ved=2ahUKEwje87zMuqz6AhVWK0QIHbjbCSQQqoUBegQICBAB&amp;usg=AOvVaw2oMIhfRxUsW2mAJcKLd1sl\"><div class=\"NZWO1b\"><img alt=\"\" class=\"yWs4tf\" src=\"https://encrypted-tbn0.gstatic.com/images?q=tbn:ANd9GcQGOimljGXqSOulhwUkyDw1GwEPm04tDtHDSvcb0tK6rMMMZpGa3eQLC4buGg&amp;s\"/></div></a></td></tr><tr><td><a href=\"/url?q=https://www.walmart.com/ip/Bananas-each/44390948&amp;sa=U&amp;ved=2ahUKEwje87zMuqz6AhVWK0QIHbjbCSQQr4kDegQICBAC&amp;usg=AOvVaw1jvuVWpteMFCITxOhJoRhs\"><div class=\"jB2rPd\"> <span class=\"qXLe6d x3G5ab\"> <span class=\"fYyStc\">Bananas, each - Walmart.com...</span> </span> <span class=\"qXLe6d F9iS2e\"> <span class=\"fYyStc\">www.walmart.com</span> </span> </div></a></td></tr></table></div></div> </div> </div></td><td align=\"center\" class=\"e3goi\"><div class=\"mnTahd\"> <div> <div class=\"lIMUZd\"><div><table class=\"IkMU6e\"><tr><td><a href=\"/url?q=https://www.target.com/p/banana-each/-/A-15013944&amp;sa=U&amp;ved=2ahUKEwje87zMuqz6AhVWK0QIHbjbCSQQqoUBegQIAhAB&amp;usg=AOvVaw0vylHyVV0Gb_ENLEPDQi9w\"><div class=\"NZWO1b\"><img alt=\"\" class=\"yWs4tf\" src=\"https://encrypted-tbn0.gstatic.com/images?q=tbn:ANd9GcTQM-CAfYk65P2zOQQ7f_biwEEKLy-QDx6KVAE3GlICpvOpvoM6A08BkBcM8w&amp;s\"/></div></a></td></tr><tr><td><a href=\"/url?q=https://www.target.com/p/banana-each/-/A-15013944&amp;sa=U&amp;ved=2ahUKEwje87zMuqz6AhVWK0QIHbjbCSQQr4kDegQIAhAC&amp;usg=AOvVaw1OdK2nYk0R6_Tsg3iFRfeu\"><div class=\"jB2rPd\"> <span class=\"qXLe6d x3G5ab\"> <span class=\"fYyStc\">Banana - Each : Target</span> </span> <span class=\"qXLe6d F9iS2e\"> <span class=\"fYyStc\">www.target.com</span> </span> </div></a></td></tr></table></div></div> </div> </div></td><td align=\"center\" class=\"e3goi\"><div class=\"mnTahd\"> <div> <div class=\"lIMUZd\"><div><table class=\"IkMU6e\"><tr><td><a href=\"/url?q=https://www.livescience.com/45005-banana-nutrition-facts.html&amp;sa=U&amp;ved=2ahUKEwje87zMuqz6AhVWK0QIHbjbCSQQqoUBegQIABAB&amp;usg=AOvVaw3A4ZD-xjcTgsAeyC4WpFh9\"><div class=\"NZWO1b\"><img alt=\"\" class=\"yWs4tf\" src=\"https://encrypted-tbn0.gstatic.com/images?q=tbn:ANd9GcSYG77n8aea_XFaeHIgeLybh6OQtJnZl_4Wecy6lpoEovb7OE_J3YA6pcV-0g&amp;s\"/></div></a></td></tr><tr><td><a href=\"/url?q=https://www.livescience.com/45005-banana-nutrition-facts.html&amp;sa=U&amp;ved=2ahUKEwje87zMuqz6AhVWK0QIHbjbCSQQr4kDegQIABAC&amp;usg=AOvVaw2SkB3OcyUZ-uwWWRu6rG9l\"><div class=\"jB2rPd\"> <span class=\"qXLe6d x3G5ab\"> <span class=\"fYyStc\">Bananas: Facts, benefits...</span> </span> <span class=\"qXLe6d F9iS2e\"> <span class=\"fYyStc\">www.livescience.com</span> </span> </div></a></td></tr></table></div></div> </div> </div></td></tr></table></div><table class=\"uZgmoc\"><tbody><td><a class=\"frGj1b\" href=\"/search?q=bananas&amp;safe=active&amp;ie=UTF-8&amp;tbm=isch&amp;ei=k3UuY57eE9bWkPIPuLenoAI&amp;start=20&amp;sa=N\">Next &gt;</a></td></tbody></table><br/><div class=\"TuS8Ad\" data-ved=\"0ahUKEwje87zMuqz6AhVWK0QIHbjbCSQQpyoIUg\"><style>.VYM29{font-weight:bold}</style><div align=\"center\" class=\"HddGcc\"><span class=\"VYM29\">South Los Altos, Los Altos, CA</span><span> - </span><span>From your IP address</span><span> - </span><a href=\"/url?q=https://support.google.com/websearch%3Fp%3Dws_settings_location%26hl%3Den&amp;sa=U&amp;ved=0ahUKEwje87zMuqz6AhVWK0QIHbjbCSQQty4IUw&amp;usg=AOvVaw3KsrGvU42rLChNmgF6aY60\">Learn more</a></div><div align=\"center\"><a class=\"rEM8G\" href=\"/url?q=https://accounts.google.com/ServiceLogin%3Fcontinue%3Dhttps://www.google.com/search%253Fq%253Dbananas%2526source%253Dlnms%2526tbm%253Disch%2526sa%253DX%2526ved%253D2ahUKEwjzkY6bsqz6AhX7FzQIHRzHAi8Q_AUoAXoECAIQAw%2526safe%253Dactive%26hl%3Den&amp;sa=U&amp;ved=0ahUKEwje87zMuqz6AhVWK0QIHbjbCSQQxs8CCFQ&amp;usg=AOvVaw3o78VzOioCJ_ZCXS9gW-YT\">Sign in</a></div><div><table class=\"bookcf\"><tbody class=\"InWNIe\"><tr><td><a class=\"rEM8G\" href=\"https://www.google.com/preferences?hl=en&amp;sa=X&amp;ved=0ahUKEwje87zMuqz6AhVWK0QIHbjbCSQQv5YECFU\">Settings</a></td><td><a class=\"rEM8G\" href=\"https://www.google.com/intl/en_us/policies/privacy/\">Privacy</a></td><td><a class=\"rEM8G\" href=\"https://www.google.com/intl/en_us/policies/terms/\">Terms</a></td></tr></tbody></table></div></div><div> </div></body></html>\n"
     ]
    }
   ],
   "source": [
    "\n",
    "prompt = \"bananas\"\n",
    "url = \"https://www.google.com/search?q=\"+prompt+\"&source=lnms&tbm=isch&sa=X&ved=2ahUKEwjzkY6bsqz6AhX7FzQIHRzHAi8Q_AUoAXoECAIQAw&safe=active&ssui=on\" #google searches with query = prompt\n",
    "#url = \"https://en.wikipedia.org/wiki/Bonni%C3%A8res,_Oise?scrlybrkr=74e99dd8\" # JUST TO TEST THE FUNCTIONALITY OF THIS\n",
    "#url = \"https://www.istockphoto.com/es/search/2/image?phrase=\"+prompt+\"&irgwc=1&cid=IS&utm_medium=affiliate_SP&utm_source=FreeImages&clickid=zRv2VezPYxyNUDE0tWQJbQBGUkDTh-3xswzsWY0&utm_term=bananas&utm_campaign=home_undefined_searchbar-popup&utm_content=270498&irpid=246195\"\n",
    "\n",
    "#calling the page\n",
    "html_page = requests.get(url)\n",
    "\n",
    "#grabbing content \n",
    "soup = BeautifulSoup(html_page.content, \"html.parser\")\n",
    "\n",
    "print (soup)"
   ]
  },
  {
   "cell_type": "code",
   "execution_count": 66,
   "id": "7da124fd",
   "metadata": {},
   "outputs": [
    {
     "name": "stdout",
     "output_type": "stream",
     "text": [
      "[<img alt=\"Google\" class=\"kgJEQe\" src=\"/images/branding/searchlogo/1x/googlelogo_desk_heirloom_color_150x55dp.gif\"/>, <img alt=\"\" class=\"yWs4tf\" src=\"https://encrypted-tbn0.gstatic.com/images?q=tbn:ANd9GcQYx8iM6RjESHnpSgWmCAi-Iirr25wc1kgDrRCcP2qzFsQMCpPjSKlix1MeaA&amp;s\"/>, <img alt=\"\" class=\"yWs4tf\" src=\"https://encrypted-tbn0.gstatic.com/images?q=tbn:ANd9GcQkixelwO2Hk4OJw0xh4HT79G9QjL_CRfOCHNXFYouRYYk5gzsJ_sfZ4P5E8g&amp;s\"/>, <img alt=\"\" class=\"yWs4tf\" src=\"https://encrypted-tbn0.gstatic.com/images?q=tbn:ANd9GcRaYYZourczaq8IzSkYz_r9KbJmdwrMMIJZB_M9ZGGh89Ijpq7Gmo0gtht2r4k&amp;s\"/>, <img alt=\"\" class=\"yWs4tf\" src=\"https://encrypted-tbn0.gstatic.com/images?q=tbn:ANd9GcS8NR-XIv81pEv2GVNcaVXKzlMspeFtdcVPp24a4TLFSHjPqWUanxWnFCvk14E&amp;s\"/>, <img alt=\"\" class=\"yWs4tf\" src=\"https://encrypted-tbn0.gstatic.com/images?q=tbn:ANd9GcQ8MnidQoU4a_8Yob599r4gkyMQH_S9mwvBYBQDQYv8w7G-Kw_pjY40h2ZBTSQ&amp;s\"/>, <img alt=\"\" class=\"yWs4tf\" src=\"https://encrypted-tbn0.gstatic.com/images?q=tbn:ANd9GcSIOHcMCV4QaXbmy4GqNHnLLFeS_8SQoVb5BQLgUiykSdzK2HDwebgR4cMvYQ&amp;s\"/>, <img alt=\"\" class=\"yWs4tf\" src=\"https://encrypted-tbn0.gstatic.com/images?q=tbn:ANd9GcQrbkMM4ffWsRel6L2cAe8LnYUebqxxL3xDWAzAtG9Z_9u_PItronJdpijl7YI&amp;s\"/>, <img alt=\"\" class=\"yWs4tf\" src=\"https://encrypted-tbn0.gstatic.com/images?q=tbn:ANd9GcRnXEJRHT_UVcuFQkzectPOme3eZA6owkMtaI90_v2FDCN1qttmoymdZ2lYGgY&amp;s\"/>, <img alt=\"\" class=\"yWs4tf\" src=\"https://encrypted-tbn0.gstatic.com/images?q=tbn:ANd9GcR0R-3LXvIXTOPvRrnNKMMf-Pm2KqGMkpyFyoL_io_JmmqphM4cunk9TgOzN0I&amp;s\"/>, <img alt=\"\" class=\"yWs4tf\" src=\"https://encrypted-tbn0.gstatic.com/images?q=tbn:ANd9GcRA5mFrM7WO1gKDeX4NXX08PyeDD0_BXaHp5NY1bbzA5JNsqECdI08d2vkwpQ&amp;s\"/>, <img alt=\"\" class=\"yWs4tf\" src=\"https://encrypted-tbn0.gstatic.com/images?q=tbn:ANd9GcT4IU3QPRpKHLaAzbyfO2d9MeWlWZZuGYadexY_68orO8vtUH7F68ihdYOTfA&amp;s\"/>, <img alt=\"\" class=\"yWs4tf\" src=\"https://encrypted-tbn0.gstatic.com/images?q=tbn:ANd9GcSYDRUHlKSeEnd1MmlRrjLq_QIuof3r1iKw-HgPHpS6wsvf0w7nip-g3l_4sw&amp;s\"/>, <img alt=\"\" class=\"yWs4tf\" src=\"https://encrypted-tbn0.gstatic.com/images?q=tbn:ANd9GcQT35k8Wy370Za7JeGqocXBvvMvBdLEhlIqmP2vPIhwgXUeY2Cl-7GpfKI_bA&amp;s\"/>, <img alt=\"\" class=\"yWs4tf\" src=\"https://encrypted-tbn0.gstatic.com/images?q=tbn:ANd9GcTA4ujv6m13qESixLE3kpF3nIZkDO6x_S3DPagN8cre9QThJp3UfhqYMZIF1Q&amp;s\"/>, <img alt=\"\" class=\"yWs4tf\" src=\"https://encrypted-tbn0.gstatic.com/images?q=tbn:ANd9GcQ9s_6vkZ9B_Zj44vvGJ5UXuzKd_vFa-DxoBShZbFTi-JRggKzA-nS5fMCECw&amp;s\"/>, <img alt=\"\" class=\"yWs4tf\" src=\"https://encrypted-tbn0.gstatic.com/images?q=tbn:ANd9GcRrBGRSNrsZxo4vd7pKHEhWEGIsUW6h63QxDhrAkEc846kCkLQo9ps0S0sB9Y0&amp;s\"/>, <img alt=\"\" class=\"yWs4tf\" src=\"https://encrypted-tbn0.gstatic.com/images?q=tbn:ANd9GcSqwxTfz8SmTUNKUrNhRypzCowtlOcBT6fOx04R3gwPpKgzSRuxYibF7VKZw4k&amp;s\"/>, <img alt=\"\" class=\"yWs4tf\" src=\"https://encrypted-tbn0.gstatic.com/images?q=tbn:ANd9GcQGOimljGXqSOulhwUkyDw1GwEPm04tDtHDSvcb0tK6rMMMZpGa3eQLC4buGg&amp;s\"/>, <img alt=\"\" class=\"yWs4tf\" src=\"https://encrypted-tbn0.gstatic.com/images?q=tbn:ANd9GcTQM-CAfYk65P2zOQQ7f_biwEEKLy-QDx6KVAE3GlICpvOpvoM6A08BkBcM8w&amp;s\"/>, <img alt=\"\" class=\"yWs4tf\" src=\"https://encrypted-tbn0.gstatic.com/images?q=tbn:ANd9GcSYG77n8aea_XFaeHIgeLybh6OQtJnZl_4Wecy6lpoEovb7OE_J3YA6pcV-0g&amp;s\"/>]\n"
     ]
    }
   ],
   "source": [
    "\n",
    "#grabbing images\n",
    "#9-23 images are encrypted - inspecting the actual webpage finds that it is not an https://encrypted link\n",
    "\n",
    "images = soup.findAll('img')\n",
    "srcs = [image[\"src\"] for image in images]\n",
    "\n",
    "#print (srcs, len(srcs))\n",
    "\n",
    "#image = soup.img\n",
    "print (images)"
   ]
  },
  {
   "cell_type": "code",
   "execution_count": 64,
   "id": "e76ec861",
   "metadata": {},
   "outputs": [
    {
     "name": "stdout",
     "output_type": "stream",
     "text": [
      "[]\n"
     ]
    }
   ],
   "source": [
    "#how to work around the https:encryption stuff"
   ]
  },
  {
   "cell_type": "code",
   "execution_count": 10,
   "id": "9b007c63",
   "metadata": {},
   "outputs": [
    {
     "name": "stderr",
     "output_type": "stream",
     "text": [
      "2022-09-23 17:05:57.289 INFO    numexpr.utils: NumExpr defaulting to 8 threads.\n",
      "2022-09-23 17:05:57.883 \n",
      "  \u001b[33m\u001b[1mWarning:\u001b[0m to view this Streamlit app on a browser, run it with the following\n",
      "  command:\n",
      "\n",
      "    streamlit run /Users/aletuch/opt/anaconda3/envs/streamlit/lib/python3.9/site-packages/ipykernel_launcher.py [ARGUMENTS]\n"
     ]
    },
    {
     "data": {
      "text/plain": [
       "DeltaGenerator(_root_container=0, _provided_cursor=None, _parent=None, _block_type=None, _form_data=None)"
      ]
     },
     "execution_count": 10,
     "metadata": {},
     "output_type": "execute_result"
    }
   ],
   "source": [
    "import streamlit as st\n",
    "\n",
    "st.markdown(\"![Image]()\")"
   ]
  },
  {
   "cell_type": "code",
   "execution_count": 87,
   "id": "32498599",
   "metadata": {},
   "outputs": [
    {
     "name": "stdout",
     "output_type": "stream",
     "text": [
      "matched image data []\n",
      "full res []\n",
      "[]\n"
     ]
    }
   ],
   "source": [
    "#https://serpapi.com/blog/scrape-google-images-with-python/\n",
    "\n",
    "#!pip install lxml\n",
    "#!pip install google-search-results\n",
    "\n",
    "import os, lxml, re, json, urllib.request\n",
    "from serpapi import GoogleSearch\n",
    "\n",
    "headers = {\n",
    "    \"User-Agent\": \"Mozilla/5.0 (Windows NT 10.0; Win64; x64) AppleWebKit/537.36 (KHTML, like Gecko) Chrome/103.0.5060.114 Safari/537.36\"\n",
    "}\n",
    "\n",
    "params = {\n",
    "    \"q\": \"mincraft wallpaper 4k\", # search query\n",
    "    \"tbm\": \"isch\",                # image results\n",
    "    \"hl\": \"en\",                   # language of the search\n",
    "    \"gl\": \"us\",                   # country where search comes from\n",
    "    \"ijn\": \"0\"                    # page number\n",
    "}\n",
    "\n",
    "html = requests.get(\"https://www.google.com/search\", params=params, headers=headers, timeout=30)\n",
    "soup = BeautifulSoup(html.content, \"html.parser\")\n",
    "\n",
    "def get_original_images():\n",
    "\n",
    "    \"\"\"\n",
    "    https://kodlogs.com/34776/json-decoder-jsondecodeerror-expecting-property-name-enclosed-in-double-quotes\n",
    "    if you try to json.loads() without json.dumps() it will throw an error:\n",
    "    \"Expecting property name enclosed in double quotes\"\n",
    "    \"\"\"\n",
    "\n",
    "    google_images = []\n",
    "\n",
    "    all_script_tags = soup.select(\"script\")\n",
    "    \n",
    "    #print (\"script tags\", all_script_tags)\n",
    "\n",
    "    # # https://regex101.com/r/48UZhY/4\n",
    "    matched_images_data = \"\".join(re.findall(r\"AF_initDataCallback\\(([^<]+)\\);\", str(all_script_tags)))\n",
    "    \n",
    "    \n",
    "    \n",
    "    matched_images_data_fix = json.dumps(matched_images_data)\n",
    "    \n",
    "    \n",
    "    matched_images_data_json = json.loads(matched_images_data_fix)\n",
    "    \n",
    "    # SOMETHING WRONG RIGHT HERE\n",
    "    # https://regex101.com/r/pdZOnW/3\n",
    "    matched_google_image_data = re.findall(r\"(?:'|,),\\[\\\"(https:|http.*?)\\\",\\d+,\\d+\\]\", matched_images_data_json)\n",
    "\n",
    "    print (\"matched image data\", matched_google_image_data)\n",
    "    \n",
    "    # https://regex101.com/r/NnRg27/1\n",
    "    matched_google_images_thumbnails = \", \".join(\n",
    "        re.findall(r'\\[\\\"(https\\:\\/\\/encrypted-tbn0\\.gstatic\\.com\\/images\\?.*?)\\\",\\d+,\\d+\\]',\n",
    "                   str(matched_google_image_data))).split(\", \")\n",
    "\n",
    "    thumbnails = [\n",
    "        bytes(bytes(thumbnail, \"ascii\").decode(\"unicode-escape\"), \"ascii\").decode(\"unicode-escape\") for thumbnail in matched_google_images_thumbnails\n",
    "    ]\n",
    "\n",
    "    # removing previously matched thumbnails for easier full resolution image matches.\n",
    "    removed_matched_google_images_thumbnails = re.sub(\n",
    "        r'\\[\\\"(https\\:\\/\\/encrypted-tbn0\\.gstatic\\.com\\/images\\?.*?)\\\",\\d+,\\d+\\]', \"\", str(matched_google_image_data))\n",
    "\n",
    "    # https://regex101.com/r/fXjfb1/4\n",
    "    # https://stackoverflow.com/a/19821774/15164646\n",
    "    matched_google_full_resolution_images = re.findall(r\"(?:'|,),\\[\\\"(https:|http.*?)\\\",\\d+,\\d+\\]\", removed_matched_google_images_thumbnails)\n",
    "\n",
    "    full_res_images = [\n",
    "        bytes(bytes(img, \"ascii\").decode(\"unicode-escape\"), \"ascii\").decode(\"unicode-escape\") for img in matched_google_full_resolution_images\n",
    "    ]\n",
    "    \n",
    "    print (\"full res\", full_res_images)\n",
    "    \n",
    "    for index, (metadata, thumbnail, original) in enumerate(zip(soup.select(\".isv-r.PNCib.MSM1fd.BUooTd\"), thumbnails, full_res_images), start=1):\n",
    "        google_images.append({\n",
    "            \"title\": metadata.select_one(\".VFACy.kGQAp.sMi44c.lNHeqe.WGvvNb\")[\"title\"],\n",
    "            \"link\": metadata.select_one(\".VFACy.kGQAp.sMi44c.lNHeqe.WGvvNb\")[\"href\"],\n",
    "            \"source\": metadata.select_one(\".fxgdke\").text,\n",
    "            \"thumbnail\": thumbnail,\n",
    "            \"original\": original\n",
    "        })\n",
    "    \n",
    "    return google_images\n",
    "\n",
    "\n",
    "print (get_original_images())\n"
   ]
  },
  {
   "cell_type": "code",
   "execution_count": null,
   "id": "3a31dba9",
   "metadata": {},
   "outputs": [],
   "source": []
  }
 ],
 "metadata": {
  "kernelspec": {
   "display_name": "streamlit",
   "language": "python",
   "name": "streamlit"
  },
  "language_info": {
   "codemirror_mode": {
    "name": "ipython",
    "version": 3
   },
   "file_extension": ".py",
   "mimetype": "text/x-python",
   "name": "python",
   "nbconvert_exporter": "python",
   "pygments_lexer": "ipython3",
   "version": "3.9.0"
  }
 },
 "nbformat": 4,
 "nbformat_minor": 5
}
