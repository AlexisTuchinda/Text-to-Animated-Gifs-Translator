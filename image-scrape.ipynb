{
 "cells": [
  {
   "cell_type": "code",
   "execution_count": 2,
   "id": "24eed1b9",
   "metadata": {},
   "outputs": [],
   "source": [
    "#https://towardsdatascience.com/a-tutorial-on-scraping-images-from-the-web-using-beautifulsoup-206a7633e948\n",
    "\n",
    "from bs4 import BeautifulSoup\n",
    "import requests"
   ]
  },
  {
   "cell_type": "code",
   "execution_count": 4,
   "id": "2aac5b0c",
   "metadata": {},
   "outputs": [],
   "source": [
    "\n",
    "prompt = \"\"\n",
    "#url = \"https://www.google.co.in/search?q=\"+prompt+\"&source=lnms&tbm=isch\" #google searches with query = prompt\n",
    "url = \"https://en.wikipedia.org/wiki/Bonni%C3%A8res,_Oise?scrlybrkr=74e99dd8\" # JUST TO TEST THE FUNCTIONALITY OF THIS\n",
    "\n",
    "#calling the page\n",
    "html_page = requests.get(url)\n",
    "\n",
    "#grabbing content \n",
    "soup = BeautifulSoup(html_page.content, \"html.parser\")\n",
    "\n",
    "#grabbing images\n",
    "images = soup.findAll('img')"
   ]
  },
  {
   "cell_type": "code",
   "execution_count": 10,
   "id": "49a1b126",
   "metadata": {},
   "outputs": [
    {
     "name": "stderr",
     "output_type": "stream",
     "text": [
      "2022-09-23 17:05:57.289 INFO    numexpr.utils: NumExpr defaulting to 8 threads.\n",
      "2022-09-23 17:05:57.883 \n",
      "  \u001b[33m\u001b[1mWarning:\u001b[0m to view this Streamlit app on a browser, run it with the following\n",
      "  command:\n",
      "\n",
      "    streamlit run /Users/aletuch/opt/anaconda3/envs/streamlit/lib/python3.9/site-packages/ipykernel_launcher.py [ARGUMENTS]\n"
     ]
    },
    {
     "data": {
      "text/plain": [
       "DeltaGenerator(_root_container=0, _provided_cursor=None, _parent=None, _block_type=None, _form_data=None)"
      ]
     },
     "execution_count": 10,
     "metadata": {},
     "output_type": "execute_result"
    }
   ],
   "source": [
    "import streamlit as st\n",
    "\n",
    "st.markdown(\"![Image](https://media.giphy.com/media/vFKqnCdLPNOKc/giphy.gif)\")"
   ]
  },
  {
   "cell_type": "code",
   "execution_count": null,
   "id": "0a89f060",
   "metadata": {},
   "outputs": [],
   "source": []
  }
 ],
 "metadata": {
  "kernelspec": {
   "display_name": "streamlit",
   "language": "python",
   "name": "streamlit"
  },
  "language_info": {
   "codemirror_mode": {
    "name": "ipython",
    "version": 3
   },
   "file_extension": ".py",
   "mimetype": "text/x-python",
   "name": "python",
   "nbconvert_exporter": "python",
   "pygments_lexer": "ipython3",
   "version": "3.9.0"
  }
 },
 "nbformat": 4,
 "nbformat_minor": 5
}
